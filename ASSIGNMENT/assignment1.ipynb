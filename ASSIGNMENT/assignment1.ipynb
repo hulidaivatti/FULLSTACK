{
 "cells": [
  {
   "attachments": {},
   "cell_type": "markdown",
   "metadata": {},
   "source": [
    "1. Python Program to Add Two Numbers"
   ]
  },
  {
   "cell_type": "code",
   "execution_count": 1,
   "metadata": {},
   "outputs": [
    {
     "name": "stdout",
     "output_type": "stream",
     "text": [
      "<built-in function sum>\n"
     ]
    }
   ],
   "source": [
    "def sum()"
   ]
  },
  {
   "attachments": {},
   "cell_type": "markdown",
   "metadata": {},
   "source": [
    "2. Python Program to Find the Square Root "
   ]
  },
  {
   "cell_type": "code",
   "execution_count": 7,
   "metadata": {},
   "outputs": [
    {
     "name": "stdout",
     "output_type": "stream",
     "text": [
      "Enter a Number: \n",
      "\n",
      "Square Root = 3.4641016151377544\n"
     ]
    }
   ],
   "source": [
    "print(\"Enter a Number: \")\n",
    "num = int(input())\n",
    "\n",
    "squareroot = num ** 0.5\n",
    "\n",
    "print(\"\\nSquare Root =\", squareroot)"
   ]
  },
  {
   "cell_type": "code",
   "execution_count": 10,
   "metadata": {},
   "outputs": [
    {
     "name": "stdout",
     "output_type": "stream",
     "text": [
      "3.0\n",
      "5.0\n",
      "4.0\n"
     ]
    }
   ],
   "source": [
    "import math\n",
    "print (math.sqrt(9))\n",
    "print (math.sqrt(25))\n",
    "print (math.sqrt(16))"
   ]
  },
  {
   "attachments": {},
   "cell_type": "markdown",
   "metadata": {},
   "source": [
    "3. Python Program to Calculate the Area of a Triangle"
   ]
  },
  {
   "cell_type": "code",
   "execution_count": 13,
   "metadata": {},
   "outputs": [
    {
     "name": "stdout",
     "output_type": "stream",
     "text": [
      "Area of triangle=5.0\n"
     ]
    }
   ],
   "source": [
    "b=float(input(\"Enter the value of base:\"))\n",
    "h=float(input(\"Enter the value height:\"))\n",
    "area=1/2*b*h\n",
    "print(f\"Area of triangle={area}\")"
   ]
  },
  {
   "attachments": {},
   "cell_type": "markdown",
   "metadata": {},
   "source": [
    " Python Program to Calculate the Area of a rectangle"
   ]
  },
  {
   "cell_type": "code",
   "execution_count": 12,
   "metadata": {},
   "outputs": [
    {
     "name": "stdout",
     "output_type": "stream",
     "text": [
      "Area of rectangle=552.0\n"
     ]
    }
   ],
   "source": [
    "l=float(input(\"Enter the Length:\"))\n",
    "b=float(input(\"enter the Breadth:\"))\n",
    "rec=l*b\n",
    "print(f\"Area of rectangle={rec}\")\n"
   ]
  },
  {
   "attachments": {},
   "cell_type": "markdown",
   "metadata": {},
   "source": [
    "4. Python Program for simple interest "
   ]
  },
  {
   "cell_type": "code",
   "execution_count": 31,
   "metadata": {},
   "outputs": [
    {
     "name": "stdout",
     "output_type": "stream",
     "text": [
      "96000.0\n"
     ]
    }
   ],
   "source": [
    "p=int(input(\"Enter the principla amount:\"))\n",
    "t=int(input(\"enter time period:\"))\n",
    "r=int(input(\"Enter the rate of Interst:\"))\n",
    "SI=p*t*r/100\n",
    "print(SI)"
   ]
  },
  {
   "attachments": {},
   "cell_type": "markdown",
   "metadata": {},
   "source": [
    "5. Python Program for compound interest "
   ]
  },
  {
   "cell_type": "code",
   "execution_count": 25,
   "metadata": {},
   "outputs": [
    {
     "name": "stdout",
     "output_type": "stream",
     "text": [
      "compund interst is 244.80000000000018\n"
     ]
    }
   ],
   "source": [
    "def ci(p,r,t):\n",
    "    a=p*(pow((1+r/100),t))\n",
    "    c=a-p\n",
    "    print(\"compund interst is\",c)\n",
    "\n",
    "p=int(input(\"Enter the principla amount:\"))\n",
    "t=int(input(\"enter time period:\"))\n",
    "r=int(input(\"Enter the rate of Interst:\"))\n",
    "ci(p,r,t)"
   ]
  }
 ],
 "metadata": {
  "kernelspec": {
   "display_name": "base",
   "language": "python",
   "name": "python3"
  },
  "language_info": {
   "codemirror_mode": {
    "name": "ipython",
    "version": 3
   },
   "file_extension": ".py",
   "mimetype": "text/x-python",
   "name": "python",
   "nbconvert_exporter": "python",
   "pygments_lexer": "ipython3",
   "version": "3.9.13"
  },
  "orig_nbformat": 4
 },
 "nbformat": 4,
 "nbformat_minor": 2
}
