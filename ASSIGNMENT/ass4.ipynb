{
 "cells": [
  {
   "cell_type": "code",
   "execution_count": 1,
   "metadata": {},
   "outputs": [],
   "source": [
    "import pandas as pd\n",
    "import numpy as np\n",
    "import matplotlib.pyplot as plt\n",
    "import matplotlib.axes as ax"
   ]
  },
  {
   "cell_type": "markdown",
   "metadata": {},
   "source": [
    "In this program, we first import the necessary libraries: numpy for array operations and LinearRegression from sklearn.linear_model for implementing the linear regression algorithm.\n",
    "\n",
    "We define a sample dataset with input matrix X and output vector y. Then, we create an instance of LinearRegression called model.\n",
    "\n",
    "Next, we fit the model to the data by calling the fit method and passing in X and y. This step trains the linear regression model on the provided data.\n",
    "\n",
    "After that, we define a test dataset X_test and use the predict method of the model to generate predictions for this test data.\n",
    "\n",
    "Finally, we print the coefficients of the linear regression model using model.coef_, the intercept term using model.intercept_, and the predictions using predictions.\n",
    "\n",
    "Please note that this program assumes you have scikit-learn installed. If you don't have it, you can install it using pip install scikit-learn."
   ]
  },
  {
   "cell_type": "code",
   "execution_count": 4,
   "metadata": {},
   "outputs": [
    {
     "name": "stdout",
     "output_type": "stream",
     "text": [
      "Coefficients: [1. 1.]\n",
      "Intercept: 1.7763568394002505e-15\n",
      "Predictions: [15. 19.]\n"
     ]
    }
   ],
   "source": [
    "import numpy as np\n",
    "from sklearn.linear_model import LinearRegression\n",
    "\n",
    "# Sample data\n",
    "X = np.array([[1, 2], [3, 4], [5, 6]])\n",
    "y = np.array([3, 7, 11])\n",
    "\n",
    "# Create a linear regression model\n",
    "model = LinearRegression()\n",
    "\n",
    "# Fit the model to the data\n",
    "model.fit(X, y)\n",
    "\n",
    "# Predict using the model\n",
    "X_test = np.array([[7, 8], [9, 10]])\n",
    "predictions = model.predict(X_test)\n",
    "\n",
    "# Print the coefficients and predictions\n",
    "print(\"Coefficients:\", model.coef_)\n",
    "print(\"Intercept:\", model.intercept_)\n",
    "print(\"Predictions:\", predictions)\n"
   ]
  }
 ],
 "metadata": {
  "kernelspec": {
   "display_name": "base",
   "language": "python",
   "name": "python3"
  },
  "language_info": {
   "codemirror_mode": {
    "name": "ipython",
    "version": 3
   },
   "file_extension": ".py",
   "mimetype": "text/x-python",
   "name": "python",
   "nbconvert_exporter": "python",
   "pygments_lexer": "ipython3",
   "version": "3.9.13"
  },
  "orig_nbformat": 4
 },
 "nbformat": 4,
 "nbformat_minor": 2
}
