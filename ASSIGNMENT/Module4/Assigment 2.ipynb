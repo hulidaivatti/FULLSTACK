{
 "cells": [
  {
   "cell_type": "code",
   "execution_count": null,
   "metadata": {},
   "outputs": [],
   "source": [
    "OpenCV:\n",
    "\n",
    "OpenCV is the huge open-source library for the computer vision, machine learning,\n",
    "and image processing and now it plays a major role in real-time operation\n",
    "which is very important in today’s systems.\n",
    "By using it, one can process images\n",
    "and videos to identify objects, faces, or even handwriting of a human. When it integrated\n",
    "with various libraries, such as NumPy,python is capable of processing the\n",
    "OpenCV array structure for analysis. To Identify image pattern and its various \n",
    "features we use vector space and perform mathematical operations on these features. "
   ]
  },
  {
   "cell_type": "markdown",
   "metadata": {},
   "source": [
    "\n",
    "10 Applications of OPEN CV\n"
   ]
  },
  {
   "cell_type": "code",
   "execution_count": null,
   "metadata": {},
   "outputs": [],
   "source": [
    "1.Face Recognition:OpenCV can recognize faces in real-time from images or video streams using methods like Eigenfaces,\n",
    "Fisherfaces, or deep learning-based models like FaceNet or MTCNN."
   ]
  },
  {
   "cell_type": "code",
   "execution_count": null,
   "metadata": {},
   "outputs": [],
   "source": [
    "2.Automated inspection and surveillance"
   ]
  },
  {
   "cell_type": "code",
   "execution_count": null,
   "metadata": {},
   "outputs": [],
   "source": [
    "3.Number of people – count (foot traffic in a mall, etc)"
   ]
  },
  {
   "cell_type": "code",
   "execution_count": null,
   "metadata": {},
   "outputs": [],
   "source": [
    "4.Vehicle counting on highways along with their speeds."
   ]
  },
  {
   "cell_type": "code",
   "execution_count": null,
   "metadata": {},
   "outputs": [],
   "source": [
    "5.Interactive art installations."
   ]
  },
  {
   "cell_type": "code",
   "execution_count": null,
   "metadata": {},
   "outputs": [],
   "source": [
    "6.Street view image stitching."
   ]
  },
  {
   "cell_type": "code",
   "execution_count": null,
   "metadata": {},
   "outputs": [],
   "source": [
    "7.Video/image search and retrieval.:"
   ]
  },
  {
   "cell_type": "code",
   "execution_count": null,
   "metadata": {},
   "outputs": [],
   "source": [
    "8.Object recognition: OpenCV can be used for real-time object detection in images and  \n",
    "video streams. It includes pre-trained models like Haar cascades \n",
    "and deep learning-based models for detecting objects in real-time."
   ]
  },
  {
   "cell_type": "code",
   "execution_count": null,
   "metadata": {},
   "outputs": [],
   "source": [
    "9.Medical image analysis."
   ]
  },
  {
   "cell_type": "code",
   "execution_count": null,
   "metadata": {},
   "outputs": [],
   "source": [
    "10.TV Channels advertisement recognition."
   ]
  }
 ],
 "metadata": {
  "language_info": {
   "name": "python"
  },
  "orig_nbformat": 4
 },
 "nbformat": 4,
 "nbformat_minor": 2
}
