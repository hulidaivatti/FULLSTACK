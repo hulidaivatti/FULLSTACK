{
 "cells": [
  {
   "cell_type": "markdown",
   "metadata": {},
   "source": [
    "Sequential model"
   ]
  },
  {
   "cell_type": "code",
   "execution_count": 14,
   "metadata": {},
   "outputs": [
    {
     "name": "stdout",
     "output_type": "stream",
     "text": [
      "2\n",
      "3\n"
     ]
    },
    {
     "data": {
      "text/plain": [
       "[]"
      ]
     },
     "execution_count": 14,
     "metadata": {},
     "output_type": "execute_result"
    }
   ],
   "source": [
    "import tensorflow as tf\n",
    "import keras\n",
    "from keras import layers\n",
    "\n",
    "model=keras.Sequential(\n",
    "    [\n",
    "        layers.Dense(2, activation='relu',name=\"layer1\"),\n",
    "        layers.Dense(3,activation='relu',name=\"layer2\"),\n",
    "        layers.Dense(4,name=\"layer3\"),\n",
    "    ]\n",
    ")\n",
    "\n",
    "#call model on a test input\n",
    "x=tf.ones((3,3))\n",
    "y=model(x)\n",
    "\n",
    "\n",
    "model.pop()\n",
    "print(len(model.layers))\n",
    "\n",
    "\n",
    "model.add(layers.Dense(5,activation='relu',name=\"layers\"))\n",
    "print(len(model.layers))\n",
    "\n",
    "layer=layers.Dense(5)\n",
    "layer.weights\n"
   ]
  },
  {
   "cell_type": "code",
   "execution_count": 19,
   "metadata": {},
   "outputs": [
    {
     "name": "stdout",
     "output_type": "stream",
     "text": [
      "[<tf.Variable 'dense_8/kernel:0' shape=(4, 3) dtype=float32, numpy=\n",
      "array([[ 0.3484707 ,  0.2534927 ,  0.11737192],\n",
      "       [ 0.5653559 ,  0.8911139 ,  0.81274474],\n",
      "       [-0.37570363, -0.7081264 , -0.02483439],\n",
      "       [ 0.4251237 ,  0.86812305,  0.42260253]], dtype=float32)>, <tf.Variable 'dense_8/bias:0' shape=(3,) dtype=float32, numpy=array([0., 0., 0.], dtype=float32)>]\n"
     ]
    }
   ],
   "source": [
    "layer=layers.Dense(3)\n",
    "layer.weights\n",
    "\n",
    "x=tf.ones((1,4))\n",
    "y=layer(x)\n",
    "\n",
    "print(layer.weights)"
   ]
  },
  {
   "cell_type": "code",
   "execution_count": 21,
   "metadata": {},
   "outputs": [
    {
     "name": "stdout",
     "output_type": "stream",
     "text": [
      "6\n"
     ]
    }
   ],
   "source": [
    "x=tf.ones([1,4])\n",
    "y=layer(x)\n",
    "\n",
    "print(len(model.weights))"
   ]
  },
  {
   "cell_type": "code",
   "execution_count": 22,
   "metadata": {},
   "outputs": [
    {
     "name": "stdout",
     "output_type": "stream",
     "text": [
      "Model: \"sequential_8\"\n",
      "_________________________________________________________________\n",
      " Layer (type)                Output Shape              Param #   \n",
      "=================================================================\n",
      " layer1 (Dense)              (3, 2)                    8         \n",
      "                                                                 \n",
      " layer2 (Dense)              (3, 3)                    9         \n",
      "                                                                 \n",
      " layers (Dense)              (3, 5)                    20        \n",
      "                                                                 \n",
      "=================================================================\n",
      "Total params: 37 (148.00 Byte)\n",
      "Trainable params: 37 (148.00 Byte)\n",
      "Non-trainable params: 0 (0.00 Byte)\n",
      "_________________________________________________________________\n",
      "None\n"
     ]
    }
   ],
   "source": [
    "print(model.summary())"
   ]
  }
 ],
 "metadata": {
  "kernelspec": {
   "display_name": "base",
   "language": "python",
   "name": "python3"
  },
  "language_info": {
   "codemirror_mode": {
    "name": "ipython",
    "version": 3
   },
   "file_extension": ".py",
   "mimetype": "text/x-python",
   "name": "python",
   "nbconvert_exporter": "python",
   "pygments_lexer": "ipython3",
   "version": "3.9.13"
  },
  "orig_nbformat": 4
 },
 "nbformat": 4,
 "nbformat_minor": 2
}
