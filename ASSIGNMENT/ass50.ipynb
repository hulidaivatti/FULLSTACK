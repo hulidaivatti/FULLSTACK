{
 "cells": [
  {
   "cell_type": "code",
   "execution_count": 1,
   "metadata": {},
   "outputs": [
    {
     "name": "stdout",
     "output_type": "stream",
     "text": [
      "49\n"
     ]
    }
   ],
   "source": [
    "#1)Python program to add two numbers\n",
    "\n",
    "def sum():\n",
    "    num1=int(input(\"Enter a first number:\"))\n",
    "    num2=int(input(\"Enter a second number:\"))\n",
    "    sum=num1+num2\n",
    "    return sum\n",
    "\n",
    "reslut=sum()\n",
    "print(reslut)"
   ]
  },
  {
   "cell_type": "code",
   "execution_count": 3,
   "metadata": {},
   "outputs": [
    {
     "name": "stdout",
     "output_type": "stream",
     "text": [
      "11.180339887498949\n"
     ]
    }
   ],
   "source": [
    "#2)Python program to find the square root\n",
    "\n",
    "import math\n",
    "def squrt():\n",
    "    num=int(input(\"Enter a number:\"))\n",
    "    squrt=math.sqrt(num)\n",
    "    return squrt\n",
    "\n",
    "ans=squrt()\n",
    "print(ans)"
   ]
  },
  {
   "cell_type": "code",
   "execution_count": 4,
   "metadata": {},
   "outputs": [
    {
     "name": "stdout",
     "output_type": "stream",
     "text": [
      "Area of triangle is: 46.0\n"
     ]
    }
   ],
   "source": [
    "#3)Python progrma to find area of triangl\n",
    "\n",
    "def areatri():\n",
    "    base=float(input(\"Enter base value\"))\n",
    "    height=float(input(\"Enter height value\"))\n",
    "    areatri=0.5*base*height\n",
    "    print(\"Area of triangle is:\",areatri)\n",
    "\n",
    "areatri()\n"
   ]
  },
  {
   "cell_type": "code",
   "execution_count": 1,
   "metadata": {},
   "outputs": [
    {
     "name": "stdout",
     "output_type": "stream",
     "text": [
      "20580.0\n"
     ]
    }
   ],
   "source": [
    "#4)Python program for simple interst\n",
    "\n",
    "def simple_interest():\n",
    "    p=int(input(\"Enter a principal amount:\"))\n",
    "    t=float(input(\"Enter the time:\"))\n",
    "    r=int(input(\"Enter a rate of interest:\"))\n",
    "    SI=(p*t*r)/100\n",
    "    return SI\n",
    "\n",
    "reslut=simple_interest()\n",
    "print(reslut)"
   ]
  },
  {
   "cell_type": "code",
   "execution_count": 3,
   "metadata": {},
   "outputs": [
    {
     "name": "stdout",
     "output_type": "stream",
     "text": [
      "-92000.0\n"
     ]
    }
   ],
   "source": [
    "#5)Python program for compound interst\n",
    "\n",
    "def compund_interest():\n",
    "    p=float(input(\"Enter the principal amount:\"))\n",
    "    t=int(input(\"Enter the time period:\"))\n",
    "    rate=float(input(\"Enter rate of interest:\"))\n",
    "    a=p*(1*(rate/100))**t\n",
    "    CI=a-p\n",
    "    return CI\n",
    "\n",
    "reslut=compund_interest()\n",
    "print(reslut)"
   ]
  },
  {
   "cell_type": "code",
   "execution_count": 1,
   "metadata": {},
   "outputs": [
    {
     "name": "stdout",
     "output_type": "stream",
     "text": [
      "Area of Circle is: 78.55\n"
     ]
    }
   ],
   "source": [
    "#6)Python progrma to find area of circle\n",
    "\n",
    "pi=3.142\n",
    "def areacr():\n",
    "    r=int(input(\"Enter radius\"))\n",
    "    ac=pi*r*r\n",
    "    print(\"Area of Circle is:\",ac)\n",
    "\n",
    "areacr()"
   ]
  },
  {
   "cell_type": "code",
   "execution_count": 2,
   "metadata": {},
   "outputs": [
    {
     "name": "stdout",
     "output_type": "stream",
     "text": [
      "Before swapping values for var1= 23 and for var2= 45\n",
      "After swaping values for var1= 45 and for var2= 23\n"
     ]
    }
   ],
   "source": [
    "#7)Python progrma to swap two variables\n",
    "\n",
    "var1=int(input(\"Enter first value:\"))\n",
    "var2=int(input(\"Enter sec value\"))\n",
    "print(\"Before swapping values for var1=\",var1,\"and for var2=\",var2)\n",
    "temp=var1\n",
    "var1=var2\n",
    "var2=temp\n",
    "print(\"After swaping values for var1=\",var1, \"and for var2=\",var2)\n"
   ]
  },
  {
   "cell_type": "code",
   "execution_count": 7,
   "metadata": {},
   "outputs": [
    {
     "name": "stdout",
     "output_type": "stream",
     "text": [
      "[50]\n",
      "[50, 40]\n",
      "[50, 40, 42]\n",
      "[50, 40, 42, 48]\n",
      "[50, 40, 42, 48, 5]\n",
      "[50, 40, 42, 48, 5, 42]\n",
      "[50, 40, 42, 48, 5, 42, 46]\n",
      "[50, 40, 42, 48, 5, 42, 46, 1]\n",
      "[50, 40, 42, 48, 5, 42, 46, 1, 37]\n",
      "[50, 40, 42, 48, 5, 42, 46, 1, 37, 49]\n"
     ]
    }
   ],
   "source": [
    "#8)Python progrma to generate random numbers\n",
    "\n",
    "import random\n",
    "rand_list=[]\n",
    "for i in range(0,10):\n",
    "    n=random.randint(1,50)\n",
    "    rand_list.append(n)\n",
    "    print(rand_list)"
   ]
  },
  {
   "cell_type": "code",
   "execution_count": 9,
   "metadata": {},
   "outputs": [
    {
     "name": "stdout",
     "output_type": "stream",
     "text": [
      "1.242742\n"
     ]
    }
   ],
   "source": [
    "#9)Python program to convert kilometers to miles\n",
    "\n",
    "def kilometers_miles():\n",
    "    k=float(input(\"Enter the kilometers:\"))\n",
    "    miles=k*0.621371\n",
    "    return miles\n",
    "\n",
    "ans=kilometers_miles()\n",
    "print(ans)"
   ]
  },
  {
   "cell_type": "code",
   "execution_count": 13,
   "metadata": {},
   "outputs": [
    {
     "name": "stdout",
     "output_type": "stream",
     "text": [
      "Entered nmber is negative nmber:\n"
     ]
    }
   ],
   "source": [
    "#10)Python progrma to check if a number is a postive or negative or 0\n",
    "\n",
    "num=float(input(\"Enter a number:\"))\n",
    "if num>0:\n",
    "    print(\"Entered number is postive number\")\n",
    "elif num<0:\n",
    "    print(\"Entered nmber is negative nmber:\")\n",
    "else:\n",
    "    print(\"Number is zero\")\n",
    "    "
   ]
  },
  {
   "cell_type": "code",
   "execution_count": 14,
   "metadata": {},
   "outputs": [
    {
     "name": "stdout",
     "output_type": "stream",
     "text": [
      "Odd\n"
     ]
    }
   ],
   "source": [
    "#11)Python progrma to check number is Evev or Odd\n",
    "\n",
    "number=int(input(\"Enter any number\"))\n",
    "if number%2==0:\n",
    "    print(\"Even\")\n",
    "else:\n",
    "    print(\"Odd\")"
   ]
  },
  {
   "cell_type": "code",
   "execution_count": 15,
   "metadata": {},
   "outputs": [
    {
     "name": "stdout",
     "output_type": "stream",
     "text": [
      "The Largest element is 34\n"
     ]
    }
   ],
   "source": [
    "#12)Python program to find largest among thres numbers\n",
    "\n",
    "a=int(input(\"Enter first nmber:\"))\n",
    "b=int(input(\"Enter sec number:\"))\n",
    "c=int(input(\"Enter third number:\"))\n",
    "if a>b and a>c:\n",
    "    print(\"The Largst element is\",a)\n",
    "elif b>a and b>c:\n",
    "    print(\"The Largest element is\",b)\n",
    "else:\n",
    "    print(\"The Largest element is\",c)"
   ]
  },
  {
   "cell_type": "code",
   "execution_count": 21,
   "metadata": {},
   "outputs": [
    {
     "name": "stdout",
     "output_type": "stream",
     "text": [
      "5 is a prime number\n"
     ]
    }
   ],
   "source": [
    "#13)Python program to check prime number\n",
    "\n",
    "n=int(input(\"Enter any number:\"))\n",
    "flag=False\n",
    "if n==1:\n",
    "    print(n,\"is not prime number\")\n",
    "elif n>1:\n",
    "    for i in range(2,n):\n",
    "        if(n%i)==0:\n",
    "            flag=True\n",
    "            break\n",
    "    if flag:\n",
    "        print(n,\"is not a prime number\")\n",
    "    else:\n",
    "        print(n,\"is a prime number\")"
   ]
  },
  {
   "cell_type": "code",
   "execution_count": 19,
   "metadata": {},
   "outputs": [
    {
     "name": "stdout",
     "output_type": "stream",
     "text": [
      "1\n",
      "2\n",
      "3\n",
      "5\n",
      "7\n",
      "11\n",
      "13\n",
      "17\n",
      "19\n",
      "23\n",
      "29\n",
      "31\n",
      "37\n",
      "41\n",
      "43\n",
      "47\n",
      "53\n",
      "59\n",
      "61\n",
      "67\n",
      "71\n",
      "73\n",
      "79\n",
      "83\n",
      "89\n",
      "97\n"
     ]
    }
   ],
   "source": [
    "#14)Python program to print all prime numbers between 1 to 100\n",
    "\n",
    "sta=int(input(\"Enter starting range:\"))\n",
    "end=int(input(\"Enter Last range:\"))\n",
    "for x in range (sta,end):\n",
    "    prime=True\n",
    "    for i in range(2,x):\n",
    "        if x%i==0:\n",
    "            prime=False\n",
    "    if prime==True:\n",
    "        print(x)"
   ]
  },
  {
   "cell_type": "code",
   "execution_count": 1,
   "metadata": {},
   "outputs": [
    {
     "name": "stdout",
     "output_type": "stream",
     "text": [
      "Factorial of  5 is 120\n"
     ]
    }
   ],
   "source": [
    "#15)Python program to find the factoiral of a number\n",
    "\n",
    "fact=1\n",
    "num=int(input(\"Enter any number:\"))\n",
    "for i in range(1,num+1):\n",
    "    fact=fact*i\n",
    "print(\"Factorial of \",num,\"is\",fact)"
   ]
  },
  {
   "cell_type": "code",
   "execution_count": 2,
   "metadata": {},
   "outputs": [
    {
     "name": "stdout",
     "output_type": "stream",
     "text": [
      "0\n",
      "1\n",
      "1\n",
      "2\n",
      "3\n",
      "5\n",
      "8\n",
      "13\n",
      "21\n",
      "34\n",
      "55\n"
     ]
    }
   ],
   "source": [
    "# 16)Python program to print fibbonacci sequence\n",
    "\n",
    "n1=0\n",
    "n2=1\n",
    "n3=int(input(\"Enter Range\"))\n",
    "print(n1)\n",
    "print(n2)\n",
    "for i in range(1,n3+1):\n",
    "    n3=n2+n1\n",
    "    print(n3)\n",
    "    n1=n2\n",
    "    n2=n3\n"
   ]
  },
  {
   "cell_type": "code",
   "execution_count": 4,
   "metadata": {},
   "outputs": [
    {
     "name": "stdout",
     "output_type": "stream",
     "text": [
      "The number is divisible\n"
     ]
    }
   ],
   "source": [
    "# 17)Python progam to find numbers divisible by another number\n",
    "num1=float(input(\"Enter First number:\"))\n",
    "num2=float(input(\"Enter Second number:\"))\n",
    "if num1%num2==0:\n",
    "    print(\"The number is divisible\")\n",
    "else:\n",
    "    print(\"The number is not divisible\")"
   ]
  },
  {
   "cell_type": "code",
   "execution_count": 1,
   "metadata": {},
   "outputs": [
    {
     "name": "stdout",
     "output_type": "stream",
     "text": [
      "0b1111 is the Binary value\n",
      "0x8 is a Hexadecimal value\n"
     ]
    }
   ],
   "source": [
    "# 18)Python program to convert Decimal to binary ,octal to heaxadecimal\n",
    "\n",
    "decimal=int(input(\"Enter decimal number:\"))\n",
    "print(bin(decimal),\"is the Binary value\")\n",
    "octal=int(input(\"Enter Octal number:\"))\n",
    "print(hex(octal),\"is a Hexadecimal value\")"
   ]
  },
  {
   "cell_type": "code",
   "execution_count": 5,
   "metadata": {},
   "outputs": [
    {
     "name": "stdout",
     "output_type": "stream",
     "text": [
      "ASCII value of  a is 97\n"
     ]
    }
   ],
   "source": [
    "# 19)Python program to find Ascii value of character\n",
    "\n",
    "c=input(\"Enter a character:\")\n",
    "print(\"ASCII value of \",c,\"is\",ord(c))"
   ]
  },
  {
   "cell_type": "code",
   "execution_count": 6,
   "metadata": {},
   "outputs": [
    {
     "name": "stdout",
     "output_type": "stream",
     "text": [
      "factor of 24 is:\n",
      "1\n",
      "2\n",
      "3\n",
      "4\n",
      "6\n",
      "8\n",
      "12\n",
      "24\n"
     ]
    }
   ],
   "source": [
    "# 20)Program to find factors of a number\n",
    "\n",
    "def fun_fact(n):\n",
    "    print(\"factor of\",n,\"is:\")\n",
    "    for i in range(1,n+1):\n",
    "        if n%i==0:\n",
    "            print(i)\n",
    "\n",
    "fun_fact(24)"
   ]
  },
  {
   "cell_type": "code",
   "execution_count": 7,
   "metadata": {},
   "outputs": [
    {
     "name": "stdout",
     "output_type": "stream",
     "text": [
      "Addition of two numbers: 101\n",
      "Substraction of two numbers: -11\n",
      "Mulitiplication of two numbers: 2520\n",
      "Division of two nmbers: 0.8035714285714286\n",
      "Modulus of two is: 45\n"
     ]
    }
   ],
   "source": [
    "#21) Python program to make a simple calculator\n",
    "\n",
    "val1=int(input(\"Enter a nmber:\"))\n",
    "val2=int(input(\"Enter Second number:\"))\n",
    "print(\"Addition of two numbers:\",val1+val2)\n",
    "print(\"Substraction of two numbers:\",val1-val2)\n",
    "print(\"Mulitiplication of two numbers:\",val1*val2)\n",
    "print(\"Division of two nmbers:\",val1/val2)\n",
    "print(\"Modulus of two is:\",val1%val2)"
   ]
  },
  {
   "cell_type": "code",
   "execution_count": 8,
   "metadata": {},
   "outputs": [
    {
     "name": "stdout",
     "output_type": "stream",
     "text": [
      "[2, 4, 6]\n",
      "[8, 10, 12]\n",
      "[14, 16, 18]\n"
     ]
    }
   ],
   "source": [
    "#22) Python program to add two matrices\n",
    "\n",
    "m1=[[1,2,3],[4,5,6],[7,8,9]]\n",
    "m2=[[1,2,3],[4,5,6],[7,8,9]]\n",
    "ans=[[m1[i][j]+m2[i][j] for j in range(len(m1[0]))]\n",
    "     for i in range(len(m1))]\n",
    "\n",
    "for r in ans:\n",
    "    print(r)"
   ]
  },
  {
   "cell_type": "code",
   "execution_count": 9,
   "metadata": {},
   "outputs": [
    {
     "name": "stdout",
     "output_type": "stream",
     "text": [
      "[2, 4, 6]\n",
      "[3, 5, 7]\n"
     ]
    }
   ],
   "source": [
    "# 23)Python program to Transpose a matrix\n",
    "\n",
    "mat=[[2,3],[4,5],[6,7]]\n",
    "res=[[0,0,0],[0,0,0]]\n",
    "for i in range(len(mat)):\n",
    "    for j in range(len(mat[0])):\n",
    "        res[j][i]=mat[i][j]\n",
    "\n",
    "for r in res:\n",
    "    print(r)"
   ]
  },
  {
   "cell_type": "code",
   "execution_count": 11,
   "metadata": {},
   "outputs": [
    {
     "name": "stdout",
     "output_type": "stream",
     "text": [
      "Multipled Matrix:\n",
      "[30, 36, 42]\n",
      "[66, 81, 96]\n",
      "[102, 126, 150]\n"
     ]
    }
   ],
   "source": [
    "# 24)Python program to multiply two matrices\n",
    "\n",
    "A=[[1,2,3],[4,5,6],[7,8,9]]\n",
    "B=[[1,2,3],[4,5,6],[7,8,9]]\n",
    "res=[[0,0,0],[0,0,0],[0,0,0]]\n",
    "for i in range(len(A)):\n",
    "    for j in range(len(B[0])):\n",
    "        for k in range(len(B)):\n",
    "            res[i][j]=res[i][j]+A[i][k]*B[k][j]\n",
    "print('Multipled Matrix:')\n",
    "for r in res:\n",
    "    print(r)"
   ]
  },
  {
   "cell_type": "code",
   "execution_count": 12,
   "metadata": {},
   "outputs": [
    {
     "name": "stdout",
     "output_type": "stream",
     "text": [
      "Entered string is not palindrome\n"
     ]
    }
   ],
   "source": [
    "# 25) Python program to check whether a string is palindrome or not\n",
    "\n",
    "def my_fun():\n",
    "    str=input(\"Enter aa string:\")\n",
    "    if str==str[::-1]:\n",
    "        print(\"Entered string is palindrome\")\n",
    "    else:\n",
    "        print(\"Entered string is not palindrome\")\n",
    "\n",
    "my_fun()"
   ]
  },
  {
   "cell_type": "code",
   "execution_count": 18,
   "metadata": {},
   "outputs": [
    {
     "name": "stdout",
     "output_type": "stream",
     "text": [
      "         *\n",
      "        ***\n",
      "       *****\n",
      "      *******\n",
      "     *********\n",
      "    ***********\n",
      "   *************\n",
      "  ***************\n",
      " *****************\n",
      "*******************\n"
     ]
    }
   ],
   "source": [
    "# 26)Python program to create pyramid patterns numbers till 10\n",
    "\n",
    "row=10\n",
    "k=0\n",
    "for i in range(1,row+1):\n",
    "    for space in range(1,(row-i)+1):\n",
    "        print(end=\" \")\n",
    "   \n",
    "    while k!=(2*i-1):\n",
    "        print(\"*\", end=\"\")\n",
    "        k=k+1\n",
    "    k=0\n",
    "    print()"
   ]
  },
  {
   "cell_type": "code",
   "execution_count": 19,
   "metadata": {},
   "outputs": [
    {
     "name": "stdout",
     "output_type": "stream",
     "text": [
      "{1: 'apple', 2: 'iphone', 3: 'samsung', 4: 'realme'}\n"
     ]
    }
   ],
   "source": [
    "# 27) Python program to merge two dictionaries\n",
    "\n",
    "dic1={1:'apple',2:'iphone'}\n",
    "dic2={3:'samsung',4:'realme'}\n",
    "print({**dic1,**dic2})"
   ]
  },
  {
   "cell_type": "code",
   "execution_count": 21,
   "metadata": {},
   "outputs": [
    {
     "name": "stdout",
     "output_type": "stream",
     "text": [
      "0 4\n",
      "1 2\n",
      "2 6\n",
      "3 1\n",
      "4 9\n"
     ]
    }
   ],
   "source": [
    "# 28)Python program to access index of a list using for loop\n",
    "\n",
    "list=[4,2,6,1,9]\n",
    "for index in range(len(list)):\n",
    "    val=list[index]\n",
    "    print(index,val)"
   ]
  },
  {
   "cell_type": "code",
   "execution_count": 22,
   "metadata": {},
   "outputs": [
    {
     "name": "stdout",
     "output_type": "stream",
     "text": [
      "Concatination of two list is:[1, 4, 7, 9, 2, 3, 5, 6]\n"
     ]
    }
   ],
   "source": [
    "#29)Pyhton program to concatenate two lists\n",
    "\n",
    "list1=[1,4,7,9]\n",
    "list2=[2,3,5,6]\n",
    "list3=list1+list2\n",
    "print(\"Concatination of two list is:\"+str(list3))"
   ]
  },
  {
   "cell_type": "code",
   "execution_count": 24,
   "metadata": {},
   "outputs": [
    {
     "name": "stdout",
     "output_type": "stream",
     "text": [
      "9\n"
     ]
    }
   ],
   "source": [
    "# 30)Python program to get the last element of the list\n",
    "\n",
    "my_list=[3,2,5,1,9]\n",
    "ele=list[-1]\n",
    "print(ele)"
   ]
  },
  {
   "cell_type": "code",
   "execution_count": 25,
   "metadata": {},
   "outputs": [
    {
     "name": "stdout",
     "output_type": "stream",
     "text": [
      "[9, 3, 7, 8]\n"
     ]
    }
   ],
   "source": [
    "# 31)Python program tp Randomly select an element from the list\n",
    "\n",
    "import random\n",
    "\n",
    "list=[4,3,5,7,8,1,2,9,0]\n",
    "n=4\n",
    "print(random.sample(list,n))"
   ]
  },
  {
   "cell_type": "code",
   "execution_count": 27,
   "metadata": {},
   "outputs": [
    {
     "name": "stdout",
     "output_type": "stream",
     "text": [
      "Odd numbers are: [1, 3, 5, 7, 9, 11, 13]\n"
     ]
    }
   ],
   "source": [
    "# 32)Python program to print odd numbers in a list\n",
    "\n",
    "list=[1,2,3,4,5,6,7,8,9,10,11,12,13,14]\n",
    "odd_no=(list[::2])\n",
    "print(\"Odd numbers are:\",odd_no)"
   ]
  },
  {
   "cell_type": "code",
   "execution_count": 29,
   "metadata": {},
   "outputs": [
    {
     "name": "stdout",
     "output_type": "stream",
     "text": [
      "2\n",
      "4\n",
      "6\n",
      "8\n",
      "10\n",
      "12\n",
      "14\n",
      "16\n",
      "18\n",
      "20\n"
     ]
    }
   ],
   "source": [
    "# 33)Python program to print all even numbers in a range\n",
    "\n",
    "str_range=int(input(\"Enter starting range:\"))\n",
    "end_range=int(input(\"Enter last range\"))\n",
    "for i in range(str_range,end_range+1):\n",
    "    if i%2==0:\n",
    "\n",
    "        print(i)"
   ]
  },
  {
   "cell_type": "code",
   "execution_count": 30,
   "metadata": {},
   "outputs": [
    {
     "name": "stdout",
     "output_type": "stream",
     "text": [
      "sum of the array 307\n"
     ]
    }
   ],
   "source": [
    "# 34) Python program to find sum of array\n",
    "\n",
    "def sum(arr):\n",
    "    sum=0\n",
    "    for i in arr:\n",
    "        sum=sum+i\n",
    "    return(sum)\n",
    "\n",
    "arr=[45,23,12,56,78,46,23,24]\n",
    "n=len(arr)\n",
    "ans=sum(arr)\n",
    "print(\"sum of the array\",ans)"
   ]
  },
  {
   "cell_type": "code",
   "execution_count": 31,
   "metadata": {},
   "outputs": [
    {
     "name": "stdout",
     "output_type": "stream",
     "text": [
      "The original string is:\n",
      "4545.678678\n"
     ]
    }
   ],
   "source": [
    "#35) Python program to check if a string is a number(Float)\n",
    "\n",
    "ts_str=\"45.678\"\n",
    "print(\"The original string is:\")\n",
    "res=ts_str.replace('.',ts_str)\n",
    "print(res)"
   ]
  },
  {
   "cell_type": "code",
   "execution_count": 32,
   "metadata": {},
   "outputs": [
    {
     "name": "stdout",
     "output_type": "stream",
     "text": [
      "Original list is: ['Nisha', 'Bhagya', 'Harish', 'Anu', 'Huligemma']\n",
      "Original list is: [2, 12, 45, 67, 23]\n",
      "Resultant dictionary is: {'Nisha': 2, 'Bhagya': 12, 'Harish': 45, 'Anu': 67, 'Huligemma': 23}\n"
     ]
    }
   ],
   "source": [
    "# 36) Python program to convert two list into a dictionary\n",
    "\n",
    "list1=[\"Nisha\",\"Bhagya\",\"Harish\",\"Anu\",\"Huligemma\"]\n",
    "list2=[2,12,45,67,23]\n",
    "print(\"Original list is:\",(list1))\n",
    "print(\"Original list is:\",(list2))\n",
    "res={list1[i]:list2[i] for i in range(len(list1))}\n",
    "print(\"Resultant dictionary is:\",(res))"
   ]
  },
  {
   "cell_type": "code",
   "execution_count": 33,
   "metadata": {},
   "outputs": [
    {
     "name": "stdout",
     "output_type": "stream",
     "text": [
      "3\n"
     ]
    }
   ],
   "source": [
    "# 37) Python program to reverse a number\n",
    "\n",
    "def rev_fun(num):\n",
    "    sum=0\n",
    "    rem=0\n",
    "    while num>0:\n",
    "        rem=num%10\n",
    "        sum=sum*10+rem\n",
    "        num=num/10\n",
    "        return sum\n",
    "\n",
    "ans=rev_fun(123)\n",
    "print(ans)\n"
   ]
  },
  {
   "cell_type": "code",
   "execution_count": 34,
   "metadata": {},
   "outputs": [
    {
     "name": "stdout",
     "output_type": "stream",
     "text": [
      "529.0\n"
     ]
    }
   ],
   "source": [
    "# 38)Pytho program to compute the power of nmber\n",
    "\n",
    "import math\n",
    "num=int(input(\"Enter any nmber:\"))\n",
    "p=int(input(\"Enter value power\"))\n",
    "ans=math.pow(num,p)\n",
    "print(ans)"
   ]
  },
  {
   "cell_type": "code",
   "execution_count": 37,
   "metadata": {},
   "outputs": [
    {
     "name": "stdout",
     "output_type": "stream",
     "text": [
      "The number of digits in the number are: 326\n"
     ]
    }
   ],
   "source": [
    "#39) Python program to count the number of digits present in a number\n",
    "\n",
    "n=int(input(\"Enter a number\"))\n",
    "count=0\n",
    "while(n>0):\n",
    "    count=count+1\n",
    "    n=n/10\n",
    "print(\"The number of digits in the number are:\",count)"
   ]
  },
  {
   "cell_type": "code",
   "execution_count": 1,
   "metadata": {},
   "outputs": [
    {
     "name": "stdout",
     "output_type": "stream",
     "text": [
      "[0, 1, 2, 3, 4, 5, 6, 7, 8, 9]\n"
     ]
    }
   ],
   "source": [
    "#40) Python program to remove a duplicate element from a list\n",
    "\n",
    "list1=[1,3,2,4,5,1,2,6,7,4,2,1,9,8,6,4,0]\n",
    "print(list(set(list1)))"
   ]
  },
  {
   "cell_type": "code",
   "execution_count": 2,
   "metadata": {},
   "outputs": [
    {
     "name": "stdout",
     "output_type": "stream",
     "text": [
      "    January 2022\n",
      "Mo Tu We Th Fr Sa Su\n",
      "                1  2\n",
      " 3  4  5  6  7  8  9\n",
      "10 11 12 13 14 15 16\n",
      "17 18 19 20 21 22 23\n",
      "24 25 26 27 28 29 30\n",
      "31\n",
      "\n"
     ]
    }
   ],
   "source": [
    "# 41)Python program to display calendar\n",
    "\n",
    "import calendar\n",
    "yy=int(input(\"enter a year:\"))\n",
    "mm=int(input(\"Enter month\"))\n",
    "print(calendar.month(yy,mm))"
   ]
  },
  {
   "cell_type": "code",
   "execution_count": 3,
   "metadata": {},
   "outputs": [
    {
     "name": "stdout",
     "output_type": "stream",
     "text": [
      "sum os the array 307\n"
     ]
    }
   ],
   "source": [
    "# 42)Python program to find sum of array\n",
    "\n",
    "def sum(arr):\n",
    "    sum=0\n",
    "    for i in arr:\n",
    "        sum=sum+i\n",
    "    return(sum)\n",
    "\n",
    "arr=[45,23,12,56,78,46,23,24]\n",
    "n=len(arr)\n",
    "ans=sum(arr)\n",
    "print(\"sum os the array\",ans)"
   ]
  },
  {
   "cell_type": "code",
   "execution_count": 4,
   "metadata": {},
   "outputs": [],
   "source": [
    "#43) Python | check for urL in string\n"
   ]
  },
  {
   "cell_type": "code",
   "execution_count": 5,
   "metadata": {},
   "outputs": [
    {
     "name": "stdout",
     "output_type": "stream",
     "text": [
      "The original dictionary is: {'study': [1, 2, 3], 'to': [5, 6, 7], 'night': [19, 2]}\n",
      "The sorted  dictionaries: {'night': [2, 19], 'study': [1, 2, 3], 'to': [5, 6, 7]}\n"
     ]
    }
   ],
   "source": [
    "# 44)Python -sort dictionary key and values list\n",
    "\n",
    "dic={'study':[1,2,3],\n",
    "     'to':[5,6,7],\n",
    "     'night':[19,2]}\n",
    "print(\"The original dictionary is:\",dic)\n",
    "sort_dict={}\n",
    "for key in sorted(dic):\n",
    "    sort_dict[key]=sorted(dic[key])\n",
    "print(\"The sorted  dictionaries:\",sort_dict)"
   ]
  },
  {
   "cell_type": "code",
   "execution_count": 6,
   "metadata": {},
   "outputs": [
    {
     "name": "stdout",
     "output_type": "stream",
     "text": [
      "size of tuple is: 424\n"
     ]
    }
   ],
   "source": [
    "# 45) Python program to find the size of a tuple\n",
    "\n",
    "import sys\n",
    "tuple1=(\"a\",1,\"huligemma\",\"harish\",2,8)\n",
    "print(\"size of tuple is:\",str(sys.getsizeof(tuple)))"
   ]
  },
  {
   "cell_type": "code",
   "execution_count": 9,
   "metadata": {},
   "outputs": [
    {
     "name": "stdout",
     "output_type": "stream",
     "text": [
      "[(2, 8), (4, 64), (8, 512), (9, 729), (3, 27)]\n"
     ]
    }
   ],
   "source": [
    "# 46)Create a list for tuple from given list having nmber and its each tuple\n",
    "\n",
    "def cube_fun(li):\n",
    "    reslut=[(num,num**3)for num in li]\n",
    "    return reslut\n",
    "\n",
    "li=[2,4,8,9,3]\n",
    "print(cube_fun(li))"
   ]
  },
  {
   "cell_type": "code",
   "execution_count": 12,
   "metadata": {},
   "outputs": [
    {
     "name": "stdout",
     "output_type": "stream",
     "text": [
      "The original list is: [(16, 3), (3, 5), (12, 34)]\n",
      "The extracted digits: [1, 2, 6, 5, 4, 3]\n"
     ]
    }
   ],
   "source": [
    "# 47)Python Extract digits from tuple  list\n",
    "\n",
    "list1=[(16,3),(3,5),(12,34)]\n",
    "print(\"The original list is:\",list1)\n",
    "x=\"\"\n",
    "for i in list1:\n",
    "    for j in i:\n",
    "        x=x+str(j)\n",
    "res=list(map(int,set(x)))\n",
    "print(\"The extracted digits:\",str(res))"
   ]
  },
  {
   "cell_type": "code",
   "execution_count": null,
   "metadata": {},
   "outputs": [],
   "source": []
  }
 ],
 "metadata": {
  "kernelspec": {
   "display_name": "base",
   "language": "python",
   "name": "python3"
  },
  "language_info": {
   "codemirror_mode": {
    "name": "ipython",
    "version": 3
   },
   "file_extension": ".py",
   "mimetype": "text/x-python",
   "name": "python",
   "nbconvert_exporter": "python",
   "pygments_lexer": "ipython3",
   "version": "3.11.0"
  },
  "orig_nbformat": 4
 },
 "nbformat": 4,
 "nbformat_minor": 2
}
